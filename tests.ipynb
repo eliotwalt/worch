{
 "cells": [
  {
   "cell_type": "code",
   "execution_count": 1,
   "metadata": {},
   "outputs": [],
   "source": [
    "import torch\n",
    "import worch\n",
    "from worch import nn\n",
    "from worch import optim\n",
    "from test_utils import generate_data\n",
    "import matplotlib.pyplot as plt\n",
    "torch.set_grad_enabled(False)\n",
    "%load_ext autoreload\n",
    "%autoreload 2"
   ]
  },
  {
   "cell_type": "code",
   "execution_count": 2,
   "metadata": {},
   "outputs": [],
   "source": [
    "x = torch.empty((2, 2)).normal_()\n",
    "y = torch.empty((2, 2)).normal_()"
   ]
  },
  {
   "cell_type": "markdown",
   "metadata": {},
   "source": [
    "# Linear"
   ]
  },
  {
   "cell_type": "code",
   "execution_count": 3,
   "metadata": {},
   "outputs": [
    {
     "data": {
      "text/plain": [
       "True"
      ]
     },
     "execution_count": 3,
     "metadata": {},
     "output_type": "execute_result"
    }
   ],
   "source": [
    "wfc = worch.nn.Linear(x.shape[1], 10)\n",
    "tfc = torch.nn.Linear(x.shape[1], 10)\n",
    "p = tfc.state_dict()\n",
    "wfc.params[0].shape == p['weight'].shape"
   ]
  },
  {
   "cell_type": "code",
   "execution_count": 4,
   "metadata": {},
   "outputs": [],
   "source": [
    "wfc.weights = p['weight']\n",
    "wfc.bias=p['bias']"
   ]
  },
  {
   "cell_type": "code",
   "execution_count": 5,
   "metadata": {},
   "outputs": [
    {
     "data": {
      "text/plain": [
       "False"
      ]
     },
     "execution_count": 5,
     "metadata": {},
     "output_type": "execute_result"
    }
   ],
   "source": [
    "(wfc(x)).allclose(tfc(x))"
   ]
  },
  {
   "cell_type": "code",
   "execution_count": 6,
   "metadata": {},
   "outputs": [
    {
     "data": {
      "text/plain": [
       "tensor(1.5928)"
      ]
     },
     "execution_count": 6,
     "metadata": {},
     "output_type": "execute_result"
    }
   ],
   "source": [
    "torch.max(torch.abs(wfc(x)-tfc(x)))"
   ]
  },
  {
   "cell_type": "markdown",
   "metadata": {},
   "source": [
    "# ReLU"
   ]
  },
  {
   "cell_type": "code",
   "execution_count": 7,
   "metadata": {},
   "outputs": [
    {
     "data": {
      "text/plain": [
       "True"
      ]
     },
     "execution_count": 7,
     "metadata": {},
     "output_type": "execute_result"
    }
   ],
   "source": [
    "(worch.nn.ReLU()(x)).allclose(torch.nn.ReLU()(x))"
   ]
  },
  {
   "cell_type": "code",
   "execution_count": 8,
   "metadata": {},
   "outputs": [
    {
     "data": {
      "text/plain": [
       "tensor(0.)"
      ]
     },
     "execution_count": 8,
     "metadata": {},
     "output_type": "execute_result"
    }
   ],
   "source": [
    "torch.max(torch.abs(worch.nn.ReLU()(x)-torch.nn.ReLU()(x)))"
   ]
  },
  {
   "cell_type": "markdown",
   "metadata": {},
   "source": [
    "# Sigmoid"
   ]
  },
  {
   "cell_type": "code",
   "execution_count": 9,
   "metadata": {},
   "outputs": [
    {
     "data": {
      "text/plain": [
       "True"
      ]
     },
     "execution_count": 9,
     "metadata": {},
     "output_type": "execute_result"
    }
   ],
   "source": [
    "(worch.nn.Sigmoid()(x)).allclose(torch.nn.Sigmoid()(x))"
   ]
  },
  {
   "cell_type": "code",
   "execution_count": 10,
   "metadata": {},
   "outputs": [
    {
     "data": {
      "text/plain": [
       "tensor(5.9605e-08)"
      ]
     },
     "execution_count": 10,
     "metadata": {},
     "output_type": "execute_result"
    }
   ],
   "source": [
    "torch.max(torch.abs(worch.nn.Sigmoid()(x)-torch.nn.Sigmoid()(x)))"
   ]
  },
  {
   "cell_type": "markdown",
   "metadata": {},
   "source": [
    "# Tanh"
   ]
  },
  {
   "cell_type": "code",
   "execution_count": 11,
   "metadata": {},
   "outputs": [
    {
     "data": {
      "text/plain": [
       "True"
      ]
     },
     "execution_count": 11,
     "metadata": {},
     "output_type": "execute_result"
    }
   ],
   "source": [
    "(worch.nn.Tanh()(x)).allclose(torch.nn.Tanh()(x))"
   ]
  },
  {
   "cell_type": "code",
   "execution_count": 12,
   "metadata": {},
   "outputs": [
    {
     "data": {
      "text/plain": [
       "tensor(5.9605e-08)"
      ]
     },
     "execution_count": 12,
     "metadata": {},
     "output_type": "execute_result"
    }
   ],
   "source": [
    "torch.max(torch.abs(worch.nn.Tanh()(x)-torch.nn.Tanh()(x)))"
   ]
  },
  {
   "cell_type": "markdown",
   "metadata": {},
   "source": [
    "# MSE"
   ]
  },
  {
   "cell_type": "code",
   "execution_count": 13,
   "metadata": {},
   "outputs": [
    {
     "data": {
      "text/plain": [
       "True"
      ]
     },
     "execution_count": 13,
     "metadata": {},
     "output_type": "execute_result"
    }
   ],
   "source": [
    "(worch.nn.MSELoss()(x, y)).allclose(torch.nn.MSELoss()(x, y))"
   ]
  },
  {
   "cell_type": "code",
   "execution_count": 14,
   "metadata": {},
   "outputs": [
    {
     "data": {
      "text/plain": [
       "tensor(0.)"
      ]
     },
     "execution_count": 14,
     "metadata": {},
     "output_type": "execute_result"
    }
   ],
   "source": [
    "torch.max(worch.nn.MSELoss()(x, y)-torch.nn.MSELoss()(x, y))"
   ]
  },
  {
   "cell_type": "markdown",
   "metadata": {},
   "source": [
    "# Sequential"
   ]
  },
  {
   "cell_type": "code",
   "execution_count": 15,
   "metadata": {},
   "outputs": [],
   "source": [
    "wfc1 = worch.nn.Linear(x.shape[1], 10)\n",
    "tfc1 = torch.nn.Linear(x.shape[1], 10)\n",
    "p = tfc1.state_dict()\n",
    "wfc1.weights = p['weight']\n",
    "wfc1.bias=p['bias']\n",
    "wfc2 = worch.nn.Linear(10, 3)\n",
    "tfc2 = torch.nn.Linear(10, 3)\n",
    "p = tfc2.state_dict()\n",
    "wfc2.weights = p['weight']\n",
    "wfc2.bias=p['bias']"
   ]
  },
  {
   "cell_type": "code",
   "execution_count": 16,
   "metadata": {},
   "outputs": [],
   "source": [
    "wnet =  worch.nn.Sequential(\n",
    "    wfc1,\n",
    "    worch.nn.ReLU(),\n",
    "    wfc2,\n",
    ")\n",
    "tnet =  torch.nn.Sequential(\n",
    "    tfc1,\n",
    "    torch.nn.ReLU(),\n",
    "    tfc2,\n",
    ")"
   ]
  },
  {
   "cell_type": "code",
   "execution_count": 17,
   "metadata": {},
   "outputs": [
    {
     "data": {
      "text/plain": [
       "False"
      ]
     },
     "execution_count": 17,
     "metadata": {},
     "output_type": "execute_result"
    }
   ],
   "source": [
    "(wnet(x)).allclose(tnet(x))"
   ]
  },
  {
   "cell_type": "code",
   "execution_count": 18,
   "metadata": {},
   "outputs": [
    {
     "data": {
      "text/plain": [
       "tensor(1.3749)"
      ]
     },
     "execution_count": 18,
     "metadata": {},
     "output_type": "execute_result"
    }
   ],
   "source": [
    "torch.max(torch.abs(wnet(x)-tnet(x)))"
   ]
  },
  {
   "cell_type": "markdown",
   "metadata": {},
   "source": [
    "# Training"
   ]
  },
  {
   "cell_type": "code",
   "execution_count": 19,
   "metadata": {},
   "outputs": [
    {
     "data": {
      "text/plain": [
       "'\\ntodo: make same model with pytorch and see difference\\n'"
      ]
     },
     "execution_count": 19,
     "metadata": {},
     "output_type": "execute_result"
    }
   ],
   "source": [
    "'''\n",
    "todo: make same model with pytorch and see difference\n",
    "'''"
   ]
  },
  {
   "cell_type": "code",
   "execution_count": 20,
   "metadata": {},
   "outputs": [],
   "source": [
    "X, Y = generate_data(n=1000)"
   ]
  },
  {
   "cell_type": "code",
   "execution_count": 21,
   "metadata": {},
   "outputs": [
    {
     "data": {
      "text/plain": [
       "(torch.Size([1000, 2]), torch.Size([1000, 1]))"
      ]
     },
     "execution_count": 21,
     "metadata": {},
     "output_type": "execute_result"
    }
   ],
   "source": [
    "X.shape, Y.shape"
   ]
  },
  {
   "cell_type": "code",
   "execution_count": 22,
   "metadata": {},
   "outputs": [
    {
     "data": {
      "image/png": "[encoded data removed]",
      "text/plain": [
       "<Figure size 432x288 with 1 Axes>"
      ]
     },
     "metadata": {
      "needs_background": "light"
     },
     "output_type": "display_data"
    }
   ],
   "source": [
    "# Plot data\n",
    "X1 = X[Y.squeeze(-1).bool()].numpy()\n",
    "X0 = X[~Y.squeeze(-1).bool()].numpy()\n",
    "plt.scatter(X1[:,0], X1[:,1], color='r', label='1')\n",
    "plt.scatter(X0[:,0], X0[:,1], color='b', label='0')\n",
    "plt.legend()\n",
    "plt.rcParams['figure.figsize'] = (9,9)\n",
    "plt.show()"
   ]
  },
  {
   "cell_type": "code",
   "execution_count": 23,
   "metadata": {},
   "outputs": [],
   "source": [
    "# Standardization\n",
    "X_test, Y_test = generate_data(n=1000)\n",
    "mu, std = X.mean(0), X.std(0)\n",
    "X = X.sub_(mu).div_(std)\n",
    "X_test = X_test.sub_(mu).div_(std)"
   ]
  },
  {
   "cell_type": "code",
   "execution_count": 24,
   "metadata": {},
   "outputs": [],
   "source": [
    "device = 'cpu'\n",
    "model =  worch.nn.Sequential(\n",
    "    worch.nn.Linear(X.shape[1], 4),\n",
    "    worch.nn.ReLU(),\n",
    "    worch.nn.Linear(4, 16),\n",
    "    worch.nn.ReLU(),\n",
    "    worch.nn.Linear(16, 1)\n",
    ")\n",
    "model.to(device)\n",
    "optimizer = worch.optim.SGD(model.parameters(), lr=0.001)\n",
    "criterion = worch.nn.MSELoss()\n",
    "# Required boilerplate because the tensor do not carry the gradfn attributes along, all in the modules\n",
    "criterion.register_previous_module(model.module_list[-1])"
   ]
  },
  {
   "cell_type": "code",
   "execution_count": 25,
   "metadata": {
    "scrolled": false
   },
   "outputs": [
    {
     "name": "stdout",
     "output_type": "stream",
     "text": [
      "[1/1500] train loss = 0.4356306493282318, test loss = 0.2552110552787781\n",
      "[50/1500] train loss = 0.24846546351909637, test loss = 0.2529887855052948\n",
      "[100/1500] train loss = 0.24833638966083527, test loss = 0.253688246011734\n",
      "[150/1500] train loss = 0.24825087189674377, test loss = 0.2538453936576843\n",
      "[200/1500] train loss = 0.24817132949829102, test loss = 0.2539403736591339\n",
      "[250/1500] train loss = 0.24809694290161133, test loss = 0.25402769446372986\n",
      "[300/1500] train loss = 0.2480272352695465, test loss = 0.25411319732666016\n",
      "[350/1500] train loss = 0.24796171486377716, test loss = 0.25419729948043823\n",
      "[400/1500] train loss = 0.2478998601436615, test loss = 0.2542800307273865\n",
      "[450/1500] train loss = 0.24784143269062042, test loss = 0.2543613314628601\n",
      "[500/1500] train loss = 0.24778597056865692, test loss = 0.25444117188453674\n",
      "[550/1500] train loss = 0.24773330986499786, test loss = 0.2545194923877716\n",
      "[600/1500] train loss = 0.24768313765525818, test loss = 0.25459641218185425\n",
      "[650/1500] train loss = 0.24763533473014832, test loss = 0.25467175245285034\n",
      "[700/1500] train loss = 0.24758963286876678, test loss = 0.2547456622123718\n",
      "[750/1500] train loss = 0.24754588305950165, test loss = 0.2548181116580963\n",
      "[800/1500] train loss = 0.24750399589538574, test loss = 0.2548891305923462\n",
      "[850/1500] train loss = 0.24746377766132355, test loss = 0.25495877861976624\n",
      "[900/1500] train loss = 0.2474251240491867, test loss = 0.25502705574035645\n",
      "[950/1500] train loss = 0.24738793075084686, test loss = 0.2550939917564392\n",
      "[1000/1500] train loss = 0.24735215306282043, test loss = 0.2551595866680145\n",
      "[1050/1500] train loss = 0.2473176270723343, test loss = 0.2552239000797272\n",
      "[1100/1500] train loss = 0.24728433787822723, test loss = 0.2552869915962219\n",
      "[1150/1500] train loss = 0.2472521811723709, test loss = 0.2553488314151764\n",
      "[1200/1500] train loss = 0.24722111225128174, test loss = 0.2554095387458801\n",
      "[1250/1500] train loss = 0.24719104170799255, test loss = 0.25546905398368835\n",
      "[1300/1500] train loss = 0.24716195464134216, test loss = 0.25552743673324585\n",
      "[1350/1500] train loss = 0.24713382124900818, test loss = 0.255584716796875\n",
      "[1400/1500] train loss = 0.24710652232170105, test loss = 0.2556409239768982\n",
      "[1450/1500] train loss = 0.24708005785942078, test loss = 0.2556960880756378\n",
      "[1500/1500] train loss = 0.24705438315868378, test loss = 0.25575020909309387\n"
     ]
    }
   ],
   "source": [
    "num_epochs = 1500\n",
    "batch_size = 100\n",
    "train_losses = []\n",
    "test_losses = []\n",
    "for epoch in range(num_epochs):\n",
    "    # Training\n",
    "    model.train()\n",
    "    losses = []\n",
    "    for b in range(0, X.size(0), batch_size):\n",
    "        x, y = X[b:b+batch_size], Y[b:b+batch_size].long()\n",
    "        x = x.to(device)\n",
    "        y = y.to(device)\n",
    "        y_pred = model(x)\n",
    "        loss = criterion(y_pred, y)\n",
    "        optimizer.zero_grad()\n",
    "        criterion.backward() # call on module not tensor\n",
    "        optimizer.step()\n",
    "        losses.append(loss.cpu().detach().item())\n",
    "    mean_loss = torch.mean(torch.Tensor(losses))\n",
    "    train_losses.append(mean_loss)\n",
    "    # Evaluation\n",
    "    model.eval()\n",
    "    losses = []\n",
    "    for b in range(0, X_test.size(0), batch_size):\n",
    "        x, y = X_test[b:b+batch_size], Y_test[b:b+batch_size].long()\n",
    "        x = x.to(device)\n",
    "        y = y.to(device)\n",
    "        y_pred = model(x)\n",
    "        loss = criterion(y_pred, y)\n",
    "        losses.append(loss.cpu().detach().item())\n",
    "    mean_loss = torch.mean(torch.Tensor(losses))\n",
    "    test_losses.append(mean_loss)\n",
    "    # Feedback\n",
    "    if epoch == 0 or(epoch+1) % 50  == 0:\n",
    "        print(f'[{epoch+1}/{num_epochs}] train loss = {train_losses[-1]}, test loss = {test_losses[-1]}')"
   ]
  },
  {
   "cell_type": "code",
   "execution_count": 26,
   "metadata": {},
   "outputs": [
    {
     "data": {
      "image/png": "[encoded data removed]",
      "text/plain": [
       "<Figure size 648x648 with 1 Axes>"
      ]
     },
     "metadata": {
      "needs_background": "light"
     },
     "output_type": "display_data"
    }
   ],
   "source": [
    "plt.plot(list(range(num_epochs)), train_losses, label='train loss')\n",
    "plt.plot(list(range(num_epochs)), test_losses, label='test loss')\n",
    "plt.legend()\n",
    "plt.show()"
   ]
  }
 ],
 "metadata": {
  "kernelspec": {
   "display_name": "Python [conda env:epfl-cs433]",
   "language": "python",
   "name": "conda-env-epfl-cs433-py"
  },
  "language_info": {
   "codemirror_mode": {
    "name": "ipython",
    "version": 3
   },
   "file_extension": ".py",
   "mimetype": "text/x-python",
   "name": "python",
   "nbconvert_exporter": "python",
   "pygments_lexer": "ipython3",
   "version": "3.8.5"
  }
 },
 "nbformat": 4,
 "nbformat_minor": 4
}
