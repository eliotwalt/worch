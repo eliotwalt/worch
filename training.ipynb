{
 "cells": [
  {
   "cell_type": "markdown",
   "metadata": {},
   "source": [
    "# Worch vs Torch: training"
   ]
  },
  {
   "cell_type": "code",
   "execution_count": 1,
   "metadata": {},
   "outputs": [],
   "source": [
    "import torch\n",
    "import worch\n",
    "from sklearn import datasets\n",
    "from sklearn.model_selection import train_test_split\n",
    "from sklearn.preprocessing import StandardScaler\n",
    "import random\n",
    "import matplotlib.pyplot as plt\n",
    "torch.set_grad_enabled(False)\n",
    "%load_ext autoreload\n",
    "%autoreload 2"
   ]
  },
  {
   "cell_type": "markdown",
   "metadata": {},
   "source": [
    "# Functions"
   ]
  },
  {
   "cell_type": "code",
   "execution_count": 2,
   "metadata": {},
   "outputs": [],
   "source": [
    "def compare_weights(wnet, tnet):\n",
    "    j = 0\n",
    "    i = 1\n",
    "    while j < len(wnet.module_list):\n",
    "        ww = wnet[j].params[0]\n",
    "        wb = wnet[j].params[1]\n",
    "        tw = tnet[j].weight\n",
    "        tb = tnet[j].bias\n",
    "        if not ww.allclose(tw):\n",
    "            return f'weight{i}', ww, tw\n",
    "        if not wb.allclose(tb):\n",
    "            return f'bias{i}', wb, tb\n",
    "        i += 1\n",
    "        j += 2\n",
    "    return None"
   ]
  },
  {
   "cell_type": "code",
   "execution_count": 3,
   "metadata": {},
   "outputs": [],
   "source": [
    "def compare_gradients(wnet, tnet):\n",
    "    j = len(wnet.module_list)-1\n",
    "    i = 1\n",
    "    while j < len(wnet.module_list):\n",
    "        ww = wnet[j].params[0].grad\n",
    "        wb = wnet[j].params[1].grad\n",
    "        tw = tnet[j].weight.grad\n",
    "        tb = tnet[j].bias.grad\n",
    "        if not ww.allclose(tw):\n",
    "            return f'weight{i}', ww, tw\n",
    "        if not wb.allclose(tb):\n",
    "            return f'bias{i}', wb, tb\n",
    "        i += 1\n",
    "        j += 2\n",
    "    return None"
   ]
  },
  {
   "cell_type": "code",
   "execution_count": 4,
   "metadata": {},
   "outputs": [],
   "source": [
    "def train_worch(model, x, y, criterion, optimizer):\n",
    "    model.train()\n",
    "    yp = model(x)\n",
    "    loss = criterion(yp, y)\n",
    "    optimizer.zero_grad()\n",
    "    criterion.backward() # call on module not tensor\n",
    "    optimizer.step()\n",
    "    return loss.cpu().detach().item(), yp"
   ]
  },
  {
   "cell_type": "code",
   "execution_count": 5,
   "metadata": {},
   "outputs": [],
   "source": [
    "def train_torch(model, x, y, criterion, optimizer):\n",
    "    model.train()\n",
    "    torch.set_grad_enabled(True)\n",
    "    yp = model(x)\n",
    "    loss = criterion(yp, y)\n",
    "    optimizer.zero_grad()\n",
    "    loss.backward()\n",
    "    optimizer.step()\n",
    "    torch.set_grad_enabled(False)\n",
    "    return loss.cpu().detach().item(), yp"
   ]
  },
  {
   "cell_type": "code",
   "execution_count": 6,
   "metadata": {},
   "outputs": [],
   "source": [
    "def eval_model(model, x, y, criterion):\n",
    "    model.eval()\n",
    "    yp = model(x)\n",
    "    loss = criterion(yp, y)\n",
    "    return loss.cpu().detach().item()"
   ]
  },
  {
   "cell_type": "markdown",
   "metadata": {},
   "source": [
    "# Load data"
   ]
  },
  {
   "cell_type": "code",
   "execution_count": 7,
   "metadata": {},
   "outputs": [],
   "source": [
    "class Options:\n",
    "    def __init__(self):\n",
    "        self.n_samples = 15000\n",
    "        self.n_features = 72\n",
    "        self.n_targets = 3\n",
    "        self.n_test = 0.2\n",
    "        self.n_val = 0.2\n",
    "        self.n_epochs = 250\n",
    "        self.batch_size = 72\n",
    "        self.lr = 0.02\n",
    "        self.hidden_sizes = [self.n_features, 32, 8, self.n_targets]\n",
    "        self.init_as_torch = False\n",
    "opt = Options()"
   ]
  },
  {
   "cell_type": "code",
   "execution_count": 8,
   "metadata": {},
   "outputs": [],
   "source": [
    "X, Y = datasets.make_regression(n_samples=opt.n_samples,\n",
    "                                n_features=opt.n_features,\n",
    "                                n_targets=opt.n_targets,\n",
    "                                noise=35,\n",
    "                                bias=0.2568541)\n",
    "X_, X_test, Y_, Y_test = train_test_split(\n",
    "    X, Y, test_size=opt.n_test, shuffle=True\n",
    ")\n",
    "X_train, X_val, Y_train, Y_val = train_test_split(\n",
    "    X_, Y_, test_size=opt.n_val, shuffle=True\n",
    ")"
   ]
  },
  {
   "cell_type": "code",
   "execution_count": 9,
   "metadata": {},
   "outputs": [],
   "source": [
    "def make_torch(x):\n",
    "    return torch.from_numpy(x).float().requires_grad_(False)"
   ]
  },
  {
   "cell_type": "code",
   "execution_count": 10,
   "metadata": {},
   "outputs": [],
   "source": [
    "sc = StandardScaler().fit(X_)\n",
    "X_train = make_torch(sc.transform(X_train))\n",
    "Y_train = make_torch(Y_train)/100\n",
    "X_val = make_torch(sc.transform(X_val))\n",
    "Y_val = make_torch(Y_val)/100\n",
    "X_test = make_torch(sc.transform(X_test))\n",
    "Y_test = make_torch(Y_test)/100"
   ]
  },
  {
   "cell_type": "code",
   "execution_count": 11,
   "metadata": {},
   "outputs": [
    {
     "data": {
      "text/plain": [
       "(torch.Size([9600, 72]), torch.Size([9600, 3]))"
      ]
     },
     "execution_count": 11,
     "metadata": {},
     "output_type": "execute_result"
    }
   ],
   "source": [
    "X_train.shape, Y_train.shape"
   ]
  },
  {
   "cell_type": "markdown",
   "metadata": {},
   "source": [
    "# Models"
   ]
  },
  {
   "cell_type": "code",
   "execution_count": 12,
   "metadata": {},
   "outputs": [
    {
     "data": {
      "text/plain": [
       "Sequential(\n",
       "  (0): Linear(in_features=72, out_features=32, bias=True)\n",
       "  (1): ReLU()\n",
       "  (2): Linear(in_features=32, out_features=8, bias=True)\n",
       "  (3): ReLU()\n",
       "  (4): Linear(in_features=8, out_features=3, bias=True)\n",
       ")"
      ]
     },
     "execution_count": 12,
     "metadata": {},
     "output_type": "execute_result"
    }
   ],
   "source": [
    "wmodules = []\n",
    "tmodules = []\n",
    "for i in range(len(opt.hidden_sizes[1:])):\n",
    "    wmod = [worch.nn.Linear(opt.hidden_sizes[i], opt.hidden_sizes[i+1])]\n",
    "    tmod = [torch.nn.Linear(opt.hidden_sizes[i], opt.hidden_sizes[i+1])]\n",
    "    if opt.init_as_torch:\n",
    "        wmod[-1].params[0] = tmod[-1].state_dict()['weight'].clone()\n",
    "        wmod[-1].params[1] = tmod[-1].state_dict()['bias'].clone()\n",
    "    if i < len(opt.hidden_sizes)-2:\n",
    "        wmod.append(worch.nn.ReLU())\n",
    "        tmod.append(torch.nn.ReLU())\n",
    "    wmodules.extend(wmod)\n",
    "    tmodules.extend(tmod)\n",
    "wnet = worch.nn.Sequential(*wmodules)\n",
    "tnet = torch.nn.Sequential(*tmodules)\n",
    "tnet"
   ]
  },
  {
   "cell_type": "code",
   "execution_count": 13,
   "metadata": {
    "scrolled": false
   },
   "outputs": [
    {
     "name": "stdout",
     "output_type": "stream",
     "text": [
      "Linear 0\n",
      "wwstd tensor(0.1363)\n",
      "twstd tensor(0.0673)\n",
      "wwmean tensor(0.0033)\n",
      "twmean tensor(0.0008)\n",
      "wbstd tensor(0.2319)\n",
      "tbstd tensor(0.0750)\n",
      "wbmean tensor(0.0300)\n",
      "tbmean tensor(-0.0105)\n",
      "same weight False\n",
      "same bias False\n",
      "\n",
      "Linear 2\n",
      "wwstd tensor(0.2257)\n",
      "twstd tensor(0.1015)\n",
      "wwmean tensor(0.0099)\n",
      "twmean tensor(0.0008)\n",
      "wbstd tensor(0.4729)\n",
      "tbstd tensor(0.0793)\n",
      "wbmean tensor(-0.0275)\n",
      "tbmean tensor(-0.0362)\n",
      "same weight False\n",
      "same bias False\n",
      "\n",
      "Linear 4\n",
      "wwstd tensor(0.4324)\n",
      "twstd tensor(0.2116)\n",
      "wwmean tensor(0.0833)\n",
      "twmean tensor(0.0389)\n",
      "wbstd tensor(0.6613)\n",
      "tbstd tensor(0.0844)\n",
      "wbmean tensor(-0.2198)\n",
      "tbmean tensor(-0.2375)\n",
      "same weight False\n",
      "same bias False\n",
      "\n",
      "Linear 6\n"
     ]
    }
   ],
   "source": [
    "j = 0\n",
    "while True:\n",
    "    try:\n",
    "        print('Linear',j)\n",
    "        print('wwstd',wnet[j].params[0].std())\n",
    "        print('twstd',tnet[j].weight.std())\n",
    "        print('wwmean',wnet[j].params[0].mean())\n",
    "        print('twmean',tnet[j].weight.mean())\n",
    "        print('wbstd',wnet[j].params[1].std())\n",
    "        print('tbstd',tnet[j].bias.std())\n",
    "        print('wbmean',wnet[j].params[1].mean())      \n",
    "        print('tbmean',tnet[j].bias.mean())\n",
    "        print('same weight', wnet[j].params[0].allclose(tnet[j].weight))\n",
    "        print('same bias', wnet[j].params[1].allclose(tnet[j].bias))\n",
    "        j += 2\n",
    "        print()\n",
    "    except:\n",
    "        break"
   ]
  },
  {
   "cell_type": "markdown",
   "metadata": {},
   "source": [
    "# Losses"
   ]
  },
  {
   "cell_type": "code",
   "execution_count": 14,
   "metadata": {},
   "outputs": [],
   "source": [
    "wcrit = worch.nn.MSELoss()\n",
    "wcrit.register_previous_module(wnet)\n",
    "tcrit = torch.nn.MSELoss()"
   ]
  },
  {
   "cell_type": "markdown",
   "metadata": {},
   "source": [
    "# Optimizers"
   ]
  },
  {
   "cell_type": "code",
   "execution_count": 15,
   "metadata": {},
   "outputs": [],
   "source": [
    "woptim = worch.optim.SGD(wnet.parameters(), lr=opt.lr)\n",
    "toptim = torch.optim.SGD(tnet.parameters(), lr=opt.lr)"
   ]
  },
  {
   "cell_type": "markdown",
   "metadata": {},
   "source": [
    "# Training loop"
   ]
  },
  {
   "cell_type": "code",
   "execution_count": 16,
   "metadata": {},
   "outputs": [
    {
     "name": "stdout",
     "output_type": "stream",
     "text": [
      "[torch@(1/250)] train: 3.54221773147583, val: 2.5386977195739746\n",
      "[worch@(1/250)] train: 1.0950359106063843, val: 0.32036903500556946\n",
      "-\n",
      "[torch@(100/250)] train: 0.1171184778213501, val: 0.13379694521427155\n",
      "[worch@(100/250)] train: 0.12081274390220642, val: 0.14609786868095398\n",
      "-\n",
      "[torch@(200/250)] train: 0.11366958171129227, val: 0.1350567638874054\n",
      "[worch@(200/250)] train: 0.11839313060045242, val: 0.148220494389534\n",
      "-\n"
     ]
    }
   ],
   "source": [
    "w_trlosses = []\n",
    "w_valosses = []\n",
    "t_trlosses = []\n",
    "t_valosses = []\n",
    "j = 0\n",
    "for epoch in range(1, opt.n_epochs+1):\n",
    "    # Train\n",
    "    wnet.train()\n",
    "    tnet.train()\n",
    "    wlosses = []\n",
    "    tlosses = []\n",
    "    for k, b in enumerate(range(0, X_train.shape[0], opt.batch_size)):\n",
    "        x = X_train[b:b+opt.batch_size]\n",
    "        y = Y_train[b:b+opt.batch_size]\n",
    "        wloss, wyp = train_worch(wnet, x.clone(), \n",
    "                                 y.clone(), wcrit, \n",
    "                                 woptim)\n",
    "        tloss, typ = train_torch(tnet, x.clone(), \n",
    "                                 y.clone(), tcrit, \n",
    "                                 toptim)\n",
    "        wlosses.append(wloss)\n",
    "        tlosses.append(tloss)\n",
    "    w_trlosses.append(torch.mean(torch.Tensor(wlosses)))\n",
    "    t_trlosses.append(torch.mean(torch.Tensor(tlosses)))\n",
    "    # Val\n",
    "    wnet.eval()\n",
    "    tnet.eval()\n",
    "    wlosses = []\n",
    "    tlosses = []\n",
    "    for b in range(0, X_test.shape[0], opt.batch_size):\n",
    "        x = X_test[b:b+opt.batch_size]\n",
    "        y = Y_test[b:b+opt.batch_size]\n",
    "        wloss = eval_model(wnet, x, y, wcrit)\n",
    "        tloss = eval_model(tnet, x, y, tcrit)\n",
    "        wlosses.append(wloss)\n",
    "        tlosses.append(tloss)\n",
    "    w_valosses.append(torch.mean(torch.Tensor(wlosses)))\n",
    "    t_valosses.append(torch.mean(torch.Tensor(tlosses)))\n",
    "    if epoch==1 or epoch % 100 == 0:\n",
    "        print('[torch@({}/{})] train: {}, val: {}'.format(\n",
    "            epoch, opt.n_epochs, t_trlosses[-1], t_valosses[-1]\n",
    "        ))\n",
    "        print('[worch@({}/{})] train: {}, val: {}\\n-'.format(\n",
    "            epoch, opt.n_epochs, w_trlosses[-1], w_valosses[-1]\n",
    "        ))"
   ]
  },
  {
   "cell_type": "code",
   "execution_count": 17,
   "metadata": {},
   "outputs": [
    {
     "data": {
      "image/png": "[encoded data removed]",
      "text/plain": [
       "<Figure size 432x288 with 1 Axes>"
      ]
     },
     "metadata": {
      "needs_background": "light"
     },
     "output_type": "display_data"
    }
   ],
   "source": [
    "n = torch.arange(opt.n_epochs)\n",
    "plt.plot(n, w_trlosses, 'r', label='worch train')\n",
    "plt.plot(n, w_valosses, 'k-', label='worch val')\n",
    "plt.plot(n, t_trlosses, 'g', label='torch train')\n",
    "plt.plot(n, t_valosses, 'b-', label='torch val')\n",
    "plt.legend()\n",
    "plt.rcParams['figure.figsize'] = (14,8)\n",
    "plt.show()"
   ]
  },
  {
   "cell_type": "markdown",
   "metadata": {},
   "source": [
    "# Trash"
   ]
  },
  {
   "cell_type": "code",
   "execution_count": null,
   "metadata": {
    "scrolled": false
   },
   "outputs": [],
   "source": [
    "w_trlosses = []\n",
    "w_valosses = []\n",
    "t_trlosses = []\n",
    "t_valosses = []\n",
    "j = 0\n",
    "# opt.n_epochs = 1\n",
    "for epoch in range(1, opt.n_epochs+1):\n",
    "#     print('epoch',epoch)\n",
    "    # Train\n",
    "    wnet.train()\n",
    "    tnet.train()\n",
    "    wlosses = []\n",
    "    tlosses = []\n",
    "    for k, b in enumerate(range(0, X_train.shape[0], opt.batch_size)):\n",
    "    #     b = 10\n",
    "    #     k = 1\n",
    "        x = X_train[b:b+opt.batch_size]\n",
    "        y = Y_train[b:b+opt.batch_size]\n",
    "        # Debug ...\n",
    "        if opt.init_as_torch:\n",
    "            res = compare_weights(wnet, tnet)\n",
    "#             if res is not None:\n",
    "#                 print('WEIGHTS')\n",
    "#                 print('batch', k, '/', X_train.shape[0]//opt.batch_size)\n",
    "#                 print('x,y', x.shape, y.shape)\n",
    "#                 print(res[0])\n",
    "#                 print('worch:')\n",
    "#                 print(res[1].shape)\n",
    "#                 print(res[1])\n",
    "#                 print('torch:')\n",
    "#                 print(res[2].shape)\n",
    "#                 print(res[2])\n",
    "#                 _ = input()\n",
    "#             else:\n",
    "#                 print('WEIGHTS OK')\n",
    "    #         wloss, wyp = train_worch(wnet, x.clone(), \n",
    "    #                                  y.clone(), wcrit, \n",
    "    #                                  woptim)\n",
    "    #         tloss, typ = train_torch(tnet, x.clone(), \n",
    "    #                                  y.clone(), tcrit, \n",
    "    #                                  toptim)\n",
    "        # Debug\n",
    "    #     ww = wnet[-1].params[0].grad.clone()\n",
    "    #     tw = tnet[-1].weight.detach().grad.clone()\n",
    "    #     print(ww, tw)\n",
    "        # WORCH\n",
    "        wyp = wnet(x)\n",
    "        wwloss = wcrit(wyp, y)\n",
    "        woptim.zero_grad()\n",
    "        wcrit.backward() # call on module not tensor\n",
    "        woptim.step()\n",
    "        wloss = wwloss.cpu().detach().item()\n",
    "        # TORCH\n",
    "        torch.set_grad_enabled(True)\n",
    "        typ = tnet(x)\n",
    "        ttloss = tcrit(typ, y)\n",
    "        toptim.zero_grad()\n",
    "        ttloss.backward()\n",
    "        toptim.step()\n",
    "        torch.set_grad_enabled(False)\n",
    "        tloss = ttloss.cpu().detach().item()\n",
    "#         # Debug\n",
    "#         ww = wnet[-1].params[0].grad.clone()\n",
    "# #         print('ww',ww)\n",
    "#         tw = tnet[-1].weight.grad.clone()\n",
    "#         wb = wnet[-1].params[1].grad.clone()\n",
    "#         tb = tnet[-1].bias.grad.clone()\n",
    "        # Debug\n",
    "#         if opt.init_as_torch:\n",
    "#             if not wyp.allclose(typ):\n",
    "#                 print('OUTPUT')\n",
    "#                 print('batch', k, '/', X_train.shape[0]//opt.batch_size)\n",
    "#                 print('x,y', x.shape, y.shape)\n",
    "#                 print('worch:')\n",
    "#                 print(wyp.shape)\n",
    "#                 print(wyp)\n",
    "#                 print('torch:')\n",
    "#                 print(typ.shape)\n",
    "#                 print(typ)\n",
    "#             else:\n",
    "#                 print('OUPTUT OK')\n",
    "        # Debug ...\n",
    "#         if opt.init_as_torch:\n",
    "#             res = compare_gradients(wnet, tnet)\n",
    "#             if res is not None:\n",
    "#                 print('GRAD')\n",
    "#                 print('batch', k, '/', X_train.shape[0]//opt.batch_size)\n",
    "#                 print('x,y', x.shape, y.shape)\n",
    "#                 print(res[0])\n",
    "#                 print('worch:')\n",
    "#                 print(res[1].shape)\n",
    "#                 print(res[1])\n",
    "#                 print('torch:')\n",
    "#                 print(res[2].shape)\n",
    "#                 print(res[2])\n",
    "#             else:\n",
    "#                 print('GRAD OK')\n",
    "        wlosses.append(wloss)\n",
    "        tlosses.append(tloss)\n",
    "    w_trlosses.append(torch.mean(torch.Tensor(wlosses)))\n",
    "    t_trlosses.append(torch.mean(torch.Tensor(tlosses)))\n",
    "    # Val\n",
    "#     wlosses = []\n",
    "#     tlosses = []\n",
    "#     for b in range(0, X_train.shape[0], opt.batch_size):\n",
    "#         x = X_train[b:b+opt.batch_size]\n",
    "#         y = Y_train[b:b+opt.batch_size]\n",
    "#         wloss = eval_model(wnet, x, y, wcrit)\n",
    "#         tloss = eval_model(tnet, x, y, tcrit)\n",
    "#         wlosses.append(wloss)\n",
    "#         tlosses.append(tloss)\n",
    "#     w_valosses.append(torch.mean(torch.Tensor(wlosses)))\n",
    "#     t_valosses.append(torch.mean(torch.Tensor(tlosses)))\n",
    "    if epoch==1 or epoch % 100 == 0:\n",
    "        t_valosses = ['prout']\n",
    "        w_valosses = ['prout']\n",
    "        print('[torch@({}/{})] train: {}, val: {}'.format(\n",
    "            epoch, opt.n_epochs, t_trlosses[-1], t_valosses[-1]\n",
    "        ))\n",
    "        print('[worch@({}/{})] train: {}, val: {}\\n-'.format(\n",
    "            epoch, opt.n_epochs, w_trlosses[-1], w_valosses[-1]\n",
    "        ))"
   ]
  },
  {
   "cell_type": "code",
   "execution_count": null,
   "metadata": {},
   "outputs": [],
   "source": [
    "j = len(wnet.module_list)\n",
    "wnet.module_list\n",
    "last_input = X_train[b:b+opt.batch_size]\n",
    "for i in range(j-2):\n",
    "    last_input = wnet[i](last_input)"
   ]
  },
  {
   "cell_type": "code",
   "execution_count": null,
   "metadata": {},
   "outputs": [],
   "source": [
    "ttloss, wwloss"
   ]
  },
  {
   "cell_type": "code",
   "execution_count": null,
   "metadata": {},
   "outputs": [],
   "source": [
    "wyp.shape, y.shape"
   ]
  },
  {
   "cell_type": "code",
   "execution_count": null,
   "metadata": {},
   "outputs": [],
   "source": [
    "gloss = (wyp-y)*0.5\n",
    "torch.mm(gloss.T, last_input)"
   ]
  },
  {
   "cell_type": "code",
   "execution_count": null,
   "metadata": {},
   "outputs": [],
   "source": [
    "ww, tw"
   ]
  },
  {
   "cell_type": "code",
   "execution_count": null,
   "metadata": {},
   "outputs": [],
   "source": [
    "gloss"
   ]
  },
  {
   "cell_type": "code",
   "execution_count": null,
   "metadata": {},
   "outputs": [],
   "source": [
    "wb, tb"
   ]
  },
  {
   "cell_type": "code",
   "execution_count": null,
   "metadata": {},
   "outputs": [],
   "source": [
    "wb / tb"
   ]
  },
  {
   "cell_type": "code",
   "execution_count": null,
   "metadata": {},
   "outputs": [],
   "source": [
    "opt.batch_size"
   ]
  },
  {
   "cell_type": "code",
   "execution_count": null,
   "metadata": {},
   "outputs": [],
   "source": [
    "0.5*0.75"
   ]
  },
  {
   "cell_type": "code",
   "execution_count": null,
   "metadata": {},
   "outputs": [],
   "source": [
    "0.375*4"
   ]
  },
  {
   "cell_type": "code",
   "execution_count": null,
   "metadata": {},
   "outputs": [],
   "source": []
  },
  {
   "cell_type": "code",
   "execution_count": null,
   "metadata": {},
   "outputs": [],
   "source": [
    "plt.plot(torch.arange(x.shape[0]), x)"
   ]
  },
  {
   "cell_type": "code",
   "execution_count": null,
   "metadata": {},
   "outputs": [],
   "source": [
    "wnet.training, wcrit.training, tnet.training, tcrit.training"
   ]
  },
  {
   "cell_type": "code",
   "execution_count": null,
   "metadata": {},
   "outputs": [],
   "source": [
    "wnet[0].training"
   ]
  }
 ],
 "metadata": {
  "kernelspec": {
   "display_name": "Python [conda env:epfl-cs433]",
   "language": "python",
   "name": "conda-env-epfl-cs433-py"
  },
  "language_info": {
   "codemirror_mode": {
    "name": "ipython",
    "version": 3
   },
   "file_extension": ".py",
   "mimetype": "text/x-python",
   "name": "python",
   "nbconvert_exporter": "python",
   "pygments_lexer": "ipython3",
   "version": "3.8.5"
  }
 },
 "nbformat": 4,
 "nbformat_minor": 2
}
